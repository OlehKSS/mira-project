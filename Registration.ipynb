{
 "cells": [
  {
   "cell_type": "code",
   "execution_count": 1,
   "metadata": {},
   "outputs": [],
   "source": [
    "import os\n",
    "from os import listdir, mkdir\n",
    "from os.path import isdir, join\n",
    "import numpy as np\n",
    "import nibabel as nib\n",
    "import matplotlib.pyplot as plt\n",
    "%matplotlib inline\n",
    "from skimage.exposure import histogram\n",
    "from skimage import exposure"
   ]
  },
  {
   "cell_type": "markdown",
   "metadata": {},
   "source": [
    "## Generate Bash Commands to Perform Registration "
   ]
  },
  {
   "cell_type": "code",
   "execution_count": null,
   "metadata": {},
   "outputs": [],
   "source": [
    "# Write commands for elastix test set registration\n",
    "# Add parameter folder name and paramter file names (must be saved in ./parameter-files folder)\n",
    "which_set = 'Test_Set' # folder name where results will be saved\n",
    "param_1 = './parameter-files/par0009.affine-hist256.txt'\n",
    "param_2 = './parameter-files/par0009.bspline-hist256.txt'\n",
    "data_dir = f\"./pre-processed-data/matched-to-mni/{which_set}/\"\n",
    "labels_dir = f\"./data/{which_set}/\"\n",
    "test_ims = [f for f in listdir(data_dir) if f.endswith(\".nii.gz\")]\n",
    "result_folder = f\"./registered-data/Par0009-matched-to-mni-256hist/{which_set}/\"\n",
    "mkdir(result_folder)\n",
    "mkdir(os.path.join(result_folder,\"templates\"))\n",
    "mkdir(os.path.join(result_folder,\"labels\"))"
   ]
  },
  {
   "cell_type": "code",
   "execution_count": null,
   "metadata": {},
   "outputs": [],
   "source": [
    "# Section writes to file in src folder\n",
    "fixed_im_path = './data/MNITemplateAtlas-norm/masked_template.nii.gz'\n",
    "\n",
    "with open(f\"elastix_{which_set}\", 'w+') as out_f:\n",
    "    \n",
    "    for chosen_im in test_ims:\n",
    "        moving_im_path = os.path.join(data_dir, chosen_im)\n",
    "        result_path = os.path.join(result_folder, \"templates\", chosen_im[:-7])\n",
    "        param_1_path = param_1\n",
    "        param_2_path = param_2    \n",
    "        mkdir(result_path)\n",
    "        cmd = f\"elastix -f {fixed_im_path} -m {moving_im_path} -out {result_path} -p {param_1_path} -p {param_2_path}\\n\"\n",
    "        out_f.write(cmd)"
   ]
  },
  {
   "cell_type": "code",
   "execution_count": null,
   "metadata": {},
   "outputs": [],
   "source": [
    "with open(f\"transformix_{which_set}\", 'w+') as out_f:\n",
    "    for chosen_im in test_ims:\n",
    "        labels_path = os.path.join(labels_dir, f'{chosen_im[:-7]}/{chosen_im[:-7]}_seg.nii.gz')\n",
    "        result_path = os.path.join(result_folder, f\"labels/{chosen_im[:-7]}\")\n",
    "        mkdir(result_path)\n",
    "        parameters_path = os.path.join(result_folder, f\"templates/{chosen_im[:-7]}/TransformParameters.1.txt\")\n",
    "        cmd = f\"transformix -in {labels_path} -out {result_path} -tp {parameters_path}\\n\"\n",
    "        out_f.write(cmd)"
   ]
  },
  {
   "cell_type": "code",
   "execution_count": null,
   "metadata": {},
   "outputs": [],
   "source": [
    "result_folder = \"./registered-data/Training_Set/\"\n",
    "#Change line \"(FinalBSplineInterpolationOrder 3)\" in Transform parameters files\n",
    "bad_files = []\n",
    "\n",
    "for chosen_im in test_ims:\n",
    "    try:\n",
    "        parameters0_path = os.path.join(result_folder, \"templates\", f\"{chosen_im}/TransformParameters.0.txt\")\n",
    "        parameters1_path = os.path.join(result_folder, \"templates\", f\"{chosen_im}/TransformParameters.1.txt\")\n",
    "        \n",
    "        replace(parameters0_path,\"(FinalBSplineInterpolationOrder 3)\",\"(FinalBSplineInterpolationOrder 0)\")\n",
    "        #replace(parameters0_path, '(ResultImagePixelType \"short\")', '(ResultImagePixelType \"float\")')\n",
    "        #replace(parameters0_path, '(ResultImageFormat \"nii\")', '(ResultImageFormat \"nii.gz\")')\n",
    "        \n",
    "        replace(parameters1_path,\"(FinalBSplineInterpolationOrder 3)\",\"(FinalBSplineInterpolationOrder 0)\")\n",
    "        #replace(parameters1_path, '(ResultImagePixelType \"short\")', '(ResultImagePixelType \"float\")')\n",
    "        #replace(parameters1_path, '(ResultImageFormat \"nii\")', '(ResultImageFormat \"nii.gz\")')\n",
    "        \n",
    "    except IOError as e:\n",
    "        print(e)\n",
    "        bad_files.append(f)\n",
    "\n",
    "print(bad_files)"
   ]
  }
 ],
 "metadata": {
  "kernelspec": {
   "display_name": "Python 3",
   "language": "python",
   "name": "python3"
  },
  "language_info": {
   "codemirror_mode": {
    "name": "ipython",
    "version": 3
   },
   "file_extension": ".py",
   "mimetype": "text/x-python",
   "name": "python",
   "nbconvert_exporter": "python",
   "pygments_lexer": "ipython3",
   "version": "3.6.5"
  }
 },
 "nbformat": 4,
 "nbformat_minor": 2
}
